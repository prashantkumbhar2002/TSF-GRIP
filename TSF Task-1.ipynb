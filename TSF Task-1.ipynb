{
 "cells": [
  {
   "cell_type": "markdown",
   "id": "6e26c6b0",
   "metadata": {},
   "source": [
    "### Data Science Internship task TSF Sept 22\n",
    "#### Prashant Kumbhar"
   ]
  },
  {
   "cell_type": "markdown",
   "id": "9b29061f",
   "metadata": {},
   "source": [
    "## Student's Percentage Prediction Model\n"
   ]
  },
  {
   "cell_type": "markdown",
   "id": "3df8e1db",
   "metadata": {},
   "source": [
    "### TASK 1\n",
    "##### To Explore Supervised Machine Learning\n",
    "\n",
    "###### In this regression task we will predict the percentage of marks that a student is expected to score based upon the number of hours they studied.\n",
    "###### This is a simple linear regression task as it involves just two variables. \\\n",
    "Data can be found at http://bit.ly/w-data"
   ]
  },
  {
   "cell_type": "markdown",
   "id": "76886dc9",
   "metadata": {},
   "source": [
    "###### What will be predicted score if a student study for 9.25 hrs in a day?"
   ]
  },
  {
   "cell_type": "markdown",
   "id": "8d4f4390",
   "metadata": {},
   "source": [
    "### Importing the Required Libraries "
   ]
  },
  {
   "cell_type": "code",
   "execution_count": 1,
   "id": "c6c5c788",
   "metadata": {},
   "outputs": [],
   "source": [
    "# importing Libraries\n",
    "import pandas as pd\n",
    "import numpy as np\n",
    "import matplotlib.pyplot as plt \n",
    "import seaborn as sns\n",
    "%matplotlib inline"
   ]
  },
  {
   "cell_type": "markdown",
   "id": "2965a40f",
   "metadata": {},
   "source": [
    "### Reading the data "
   ]
  },
  {
   "cell_type": "code",
   "execution_count": 2,
   "id": "8256c48c",
   "metadata": {},
   "outputs": [
    {
     "data": {
      "text/html": [
       "<div>\n",
       "<style scoped>\n",
       "    .dataframe tbody tr th:only-of-type {\n",
       "        vertical-align: middle;\n",
       "    }\n",
       "\n",
       "    .dataframe tbody tr th {\n",
       "        vertical-align: top;\n",
       "    }\n",
       "\n",
       "    .dataframe thead th {\n",
       "        text-align: right;\n",
       "    }\n",
       "</style>\n",
       "<table border=\"1\" class=\"dataframe\">\n",
       "  <thead>\n",
       "    <tr style=\"text-align: right;\">\n",
       "      <th></th>\n",
       "      <th>Hours</th>\n",
       "      <th>Scores</th>\n",
       "    </tr>\n",
       "  </thead>\n",
       "  <tbody>\n",
       "    <tr>\n",
       "      <th>0</th>\n",
       "      <td>2.5</td>\n",
       "      <td>21</td>\n",
       "    </tr>\n",
       "    <tr>\n",
       "      <th>1</th>\n",
       "      <td>5.1</td>\n",
       "      <td>47</td>\n",
       "    </tr>\n",
       "    <tr>\n",
       "      <th>2</th>\n",
       "      <td>3.2</td>\n",
       "      <td>27</td>\n",
       "    </tr>\n",
       "    <tr>\n",
       "      <th>3</th>\n",
       "      <td>8.5</td>\n",
       "      <td>75</td>\n",
       "    </tr>\n",
       "    <tr>\n",
       "      <th>4</th>\n",
       "      <td>3.5</td>\n",
       "      <td>30</td>\n",
       "    </tr>\n",
       "    <tr>\n",
       "      <th>5</th>\n",
       "      <td>1.5</td>\n",
       "      <td>20</td>\n",
       "    </tr>\n",
       "    <tr>\n",
       "      <th>6</th>\n",
       "      <td>9.2</td>\n",
       "      <td>88</td>\n",
       "    </tr>\n",
       "    <tr>\n",
       "      <th>7</th>\n",
       "      <td>5.5</td>\n",
       "      <td>60</td>\n",
       "    </tr>\n",
       "    <tr>\n",
       "      <th>8</th>\n",
       "      <td>8.3</td>\n",
       "      <td>81</td>\n",
       "    </tr>\n",
       "    <tr>\n",
       "      <th>9</th>\n",
       "      <td>2.7</td>\n",
       "      <td>25</td>\n",
       "    </tr>\n",
       "    <tr>\n",
       "      <th>10</th>\n",
       "      <td>7.7</td>\n",
       "      <td>85</td>\n",
       "    </tr>\n",
       "    <tr>\n",
       "      <th>11</th>\n",
       "      <td>5.9</td>\n",
       "      <td>62</td>\n",
       "    </tr>\n",
       "    <tr>\n",
       "      <th>12</th>\n",
       "      <td>4.5</td>\n",
       "      <td>41</td>\n",
       "    </tr>\n",
       "    <tr>\n",
       "      <th>13</th>\n",
       "      <td>3.3</td>\n",
       "      <td>42</td>\n",
       "    </tr>\n",
       "    <tr>\n",
       "      <th>14</th>\n",
       "      <td>1.1</td>\n",
       "      <td>17</td>\n",
       "    </tr>\n",
       "    <tr>\n",
       "      <th>15</th>\n",
       "      <td>8.9</td>\n",
       "      <td>95</td>\n",
       "    </tr>\n",
       "    <tr>\n",
       "      <th>16</th>\n",
       "      <td>2.5</td>\n",
       "      <td>30</td>\n",
       "    </tr>\n",
       "    <tr>\n",
       "      <th>17</th>\n",
       "      <td>1.9</td>\n",
       "      <td>24</td>\n",
       "    </tr>\n",
       "    <tr>\n",
       "      <th>18</th>\n",
       "      <td>6.1</td>\n",
       "      <td>67</td>\n",
       "    </tr>\n",
       "    <tr>\n",
       "      <th>19</th>\n",
       "      <td>7.4</td>\n",
       "      <td>69</td>\n",
       "    </tr>\n",
       "    <tr>\n",
       "      <th>20</th>\n",
       "      <td>2.7</td>\n",
       "      <td>30</td>\n",
       "    </tr>\n",
       "    <tr>\n",
       "      <th>21</th>\n",
       "      <td>4.8</td>\n",
       "      <td>54</td>\n",
       "    </tr>\n",
       "    <tr>\n",
       "      <th>22</th>\n",
       "      <td>3.8</td>\n",
       "      <td>35</td>\n",
       "    </tr>\n",
       "    <tr>\n",
       "      <th>23</th>\n",
       "      <td>6.9</td>\n",
       "      <td>76</td>\n",
       "    </tr>\n",
       "    <tr>\n",
       "      <th>24</th>\n",
       "      <td>7.8</td>\n",
       "      <td>86</td>\n",
       "    </tr>\n",
       "  </tbody>\n",
       "</table>\n",
       "</div>"
      ],
      "text/plain": [
       "    Hours  Scores\n",
       "0     2.5      21\n",
       "1     5.1      47\n",
       "2     3.2      27\n",
       "3     8.5      75\n",
       "4     3.5      30\n",
       "5     1.5      20\n",
       "6     9.2      88\n",
       "7     5.5      60\n",
       "8     8.3      81\n",
       "9     2.7      25\n",
       "10    7.7      85\n",
       "11    5.9      62\n",
       "12    4.5      41\n",
       "13    3.3      42\n",
       "14    1.1      17\n",
       "15    8.9      95\n",
       "16    2.5      30\n",
       "17    1.9      24\n",
       "18    6.1      67\n",
       "19    7.4      69\n",
       "20    2.7      30\n",
       "21    4.8      54\n",
       "22    3.8      35\n",
       "23    6.9      76\n",
       "24    7.8      86"
      ]
     },
     "execution_count": 2,
     "metadata": {},
     "output_type": "execute_result"
    }
   ],
   "source": [
    "url = \"http://bit.ly/w-data\"\n",
    "dataset = pd.read_csv(url)\n",
    "dataset"
   ]
  },
  {
   "cell_type": "code",
   "execution_count": 3,
   "id": "d0dec70b",
   "metadata": {},
   "outputs": [
    {
     "data": {
      "text/plain": [
       "Hours     0\n",
       "Scores    0\n",
       "dtype: int64"
      ]
     },
     "execution_count": 3,
     "metadata": {},
     "output_type": "execute_result"
    }
   ],
   "source": [
    "#checking for null values\n",
    "dataset.isnull().sum()"
   ]
  },
  {
   "cell_type": "markdown",
   "id": "c5610606",
   "metadata": {},
   "source": [
    "There are no null values and hence data cleaning is not required\n",
    "\n",
    "Let's plot this data that we have on 2-D graph to eyeball\n",
    "our dataset and see if we can manually find any kind of relationship between the two parameters- Hours and Scores."
   ]
  },
  {
   "cell_type": "code",
   "execution_count": 4,
   "id": "061a6897",
   "metadata": {},
   "outputs": [
    {
     "data": {
      "image/png": "[encoded data removed]",
      "text/plain": [
       "<Figure size 432x288 with 1 Axes>"
      ]
     },
     "metadata": {
      "needs_background": "light"
     },
     "output_type": "display_data"
    }
   ],
   "source": [
    "# Plotting the distribution of scores\n",
    "dataset.plot(x='Hours', y='Scores', style='o')  \n",
    "plt.title('Study Hours vs Percentage Scores')  \n",
    "plt.xlabel('Hours Studied')  \n",
    "plt.ylabel('Percentage Score')  \n",
    "plt.show()"
   ]
  },
  {
   "cell_type": "code",
   "execution_count": 5,
   "id": "ea8749d2",
   "metadata": {},
   "outputs": [
    {
     "data": {
      "image/png": "[encoded data removed]",
      "text/plain": [
       "<Figure size 432x288 with 1 Axes>"
      ]
     },
     "metadata": {
      "needs_background": "light"
     },
     "output_type": "display_data"
    }
   ],
   "source": [
    "#plotting regressor plot to determine the relationship between feature and target\n",
    "sns.regplot(x=dataset['Hours'],y=dataset['Scores'],data=dataset)\n",
    "plt.title('Study Hours vs Percentage Scores')\n",
    "plt.xlabel('Study Hours')\n",
    "plt.ylabel('Percentage')\n",
    "plt.show()"
   ]
  },
  {
   "cell_type": "markdown",
   "id": "32afd4db",
   "metadata": {},
   "source": [
    "From the graph above, it can be clearly seen that there is a positive linear relation between \n",
    "the number of hours studied and percentage of score.\n",
    "### Preparing our data\n",
    "Next is to define our \"attributes\"(input) variable and \"labels\"(output)"
   ]
  },
  {
   "cell_type": "code",
   "execution_count": 6,
   "id": "fabac475",
   "metadata": {},
   "outputs": [],
   "source": [
    "X = dataset.iloc[:, :-1].values  #Attribute\n",
    "y = dataset.iloc[:, 1].values    #Labels"
   ]
  },
  {
   "cell_type": "markdown",
   "id": "f7cf5b05",
   "metadata": {},
   "source": [
    "Now that we have the attributes and labels defined, the next step is to split this data into training and test sets."
   ]
  },
  {
   "cell_type": "code",
   "execution_count": 7,
   "id": "d0d979eb",
   "metadata": {},
   "outputs": [],
   "source": [
    "# Using Scikit-Learn's built-in train_test_split() method:\n",
    "from sklearn.model_selection import train_test_split  \n",
    "X_train, X_test, y_train, y_test = train_test_split(X, y, test_size = 0.2, random_state = 42) "
   ]
  },
  {
   "cell_type": "markdown",
   "id": "8a19b6b2",
   "metadata": {},
   "source": [
    "We have the training and testing sets ready for training our model.\n",
    "\n",
    "### Training the Algorithm\n",
    "First I will be making our linear regression algorithm from scratch and then I will compare it with the built-in function sklearn.linear_model.LinearRegression()\n",
    "\n",
    "##### Making the linear regression from scratch"
   ]
  },
  {
   "cell_type": "code",
   "execution_count": 8,
   "id": "6b9d768b",
   "metadata": {},
   "outputs": [],
   "source": [
    "y_train_new = y_train.reshape(-1,1)  \n",
    "ones = np.ones([X_train.shape[0], 1]) # create a array containing only ones \n",
    "X_train_new = np.concatenate([ones, X_train],1) # concatenate the ones to X matrix"
   ]
  },
  {
   "cell_type": "code",
   "execution_count": 9,
   "id": "caedcb91",
   "metadata": {},
   "outputs": [
    {
     "name": "stdout",
     "output_type": "stream",
     "text": [
      "[[1. 1.]]\n"
     ]
    }
   ],
   "source": [
    "# creating the theta matrix\n",
    "# notice small alpha value\n",
    "alpha = 0.01\n",
    "iters = 5000\n",
    "\n",
    "theta = np.array([[1.0, 1.0]])\n",
    "print(theta)"
   ]
  },
  {
   "cell_type": "code",
   "execution_count": 10,
   "id": "5303ec16",
   "metadata": {},
   "outputs": [],
   "source": [
    "# Cost Function\n",
    "def computeCost(X, y, theta):\n",
    "    inner = np.power(((X @ theta.T) - y), 2)\n",
    "    return np.sum(inner) / (2 * len(X))"
   ]
  },
  {
   "cell_type": "code",
   "execution_count": 11,
   "id": "e4af5e45",
   "metadata": {},
   "outputs": [
    {
     "data": {
      "text/plain": [
       "1259.1955"
      ]
     },
     "execution_count": 11,
     "metadata": {},
     "output_type": "execute_result"
    }
   ],
   "source": [
    "computeCost(X_train_new, y_train_new, theta)"
   ]
  },
  {
   "cell_type": "markdown",
   "id": "67958920",
   "metadata": {},
   "source": [
    "The value of 1259.1955 is the initial value. The aim will be to minimise this to as small as possible"
   ]
  },
  {
   "cell_type": "code",
   "execution_count": 12,
   "id": "630d051b",
   "metadata": {},
   "outputs": [],
   "source": [
    "# Gradient Descent\n",
    "def gradientDescent(X, y, theta, alpha, iters):\n",
    "    m = len(X)\n",
    "    for i in range(iters):\n",
    "        theta = theta - (alpha/m) * np.sum(((X @ theta.T) - y) * X, axis=0)\n",
    "        cost = computeCost(X, y, theta)\n",
    "        #if i % 10 == 0:\n",
    "            #print(cost)\n",
    "    return (theta, cost)"
   ]
  },
  {
   "cell_type": "code",
   "execution_count": 13,
   "id": "cae46f7d",
   "metadata": {},
   "outputs": [
    {
     "name": "stdout",
     "output_type": "stream",
     "text": [
      "Intercept - 2.8268715728809677\n",
      "Coefficient-  9.682081515927122\n",
      "The final cost obtained after optimisation -  15.727417763727209\n"
     ]
    }
   ],
   "source": [
    "g, cost = gradientDescent(X_train_new, y_train_new, theta, alpha, iters)  \n",
    "print(\"Intercept -\", g[0][0])\n",
    "print(\"Coefficient- \", g[0][1])\n",
    "print(\"The final cost obtained after optimisation - \", cost)"
   ]
  },
  {
   "cell_type": "code",
   "execution_count": 14,
   "id": "8fef211a",
   "metadata": {},
   "outputs": [
    {
     "data": {
      "image/png": "[encoded data removed]",
      "text/plain": [
       "<Figure size 432x288 with 1 Axes>"
      ]
     },
     "metadata": {
      "needs_background": "light"
     },
     "output_type": "display_data"
    }
   ],
   "source": [
    "# Plotting scatter points\n",
    "plt.scatter(X, y, label='Scatter Plot')\n",
    "axes = plt.gca()\n",
    "\n",
    "# Plotting the Line\n",
    "x_vals = np.array(axes.get_xlim()) \n",
    "y_vals = g[0][0] + g[0][1]* x_vals #the line equation\n",
    "\n",
    "plt.plot(x_vals, y_vals, color='red', label='Regression Line')\n",
    "plt.legend()\n",
    "plt.show()"
   ]
  },
  {
   "cell_type": "markdown",
   "id": "88ce1f84",
   "metadata": {},
   "source": [
    "So, the above method was building our regression algorithm from scratch and implementing it on the data-set. However, as you can see this is in crude form, a more elegant would be to make a class of it.\n",
    "\n",
    "The hyper-parameters such \"alpha\" also known as the learning rate is optimised by hit and trial method, which should not be the practice.\n",
    "\n",
    "So, instead of writing this long code, python has an-inbuilt library for the same. Let's try that too."
   ]
  },
  {
   "cell_type": "markdown",
   "id": "1bc51689",
   "metadata": {},
   "source": [
    "## Using scikit library"
   ]
  },
  {
   "cell_type": "code",
   "execution_count": 15,
   "id": "2e0f79f1",
   "metadata": {},
   "outputs": [
    {
     "data": {
      "text/plain": [
       "LinearRegression()"
      ]
     },
     "execution_count": 15,
     "metadata": {},
     "output_type": "execute_result"
    }
   ],
   "source": [
    "from sklearn.linear_model import LinearRegression  \n",
    "regressor = LinearRegression()  \n",
    "regressor.fit(X_train, y_train) \n"
   ]
  },
  {
   "cell_type": "code",
   "execution_count": 16,
   "id": "444916fb",
   "metadata": {},
   "outputs": [
    {
     "name": "stdout",
     "output_type": "stream",
     "text": [
      "Coefficient:  [9.68207815]\n",
      "Intercept :  2.826892353899737\n"
     ]
    }
   ],
   "source": [
    "print (\"Coefficient: \", regressor.coef_)\n",
    "print (\"Intercept : \", regressor.intercept_)"
   ]
  },
  {
   "cell_type": "code",
   "execution_count": 17,
   "id": "76ad22bc",
   "metadata": {
    "scrolled": true
   },
   "outputs": [
    {
     "data": {
      "image/png": "[encoded data removed]",
      "text/plain": [
       "<Figure size 432x288 with 1 Axes>"
      ]
     },
     "metadata": {
      "needs_background": "light"
     },
     "output_type": "display_data"
    }
   ],
   "source": [
    "# Plotting the regression line\n",
    "line = regressor.coef_*X + regressor.intercept_\n",
    "\n",
    "# Plotting for the test data\n",
    "plt.scatter(X, y)\n",
    "plt.plot(X, line,color='red', label='Regression Line')\n",
    "plt.legend()\n",
    "plt.show()"
   ]
  },
  {
   "cell_type": "markdown",
   "id": "d73a42e2",
   "metadata": {},
   "source": [
    "As we can see that both the graph are identical and even the intercepts and coefficient of the line are same. So my effort of making linear regression algorithm from scratch has been a success!!\n",
    "\n",
    "But as you can see, it is also pretty easy to use the built-in function. Few lines of code and your work is done."
   ]
  },
  {
   "cell_type": "markdown",
   "id": "d2c00d99",
   "metadata": {},
   "source": [
    "### Prediction"
   ]
  },
  {
   "cell_type": "code",
   "execution_count": 18,
   "id": "7980f8a0",
   "metadata": {},
   "outputs": [
    {
     "name": "stdout",
     "output_type": "stream",
     "text": [
      "[[8.3]\n",
      " [2.5]\n",
      " [2.5]\n",
      " [6.9]\n",
      " [5.9]]\n"
     ]
    }
   ],
   "source": [
    "print(X_test) # Testing data - In Hours\n",
    "y_pred = regressor.predict(X_test) # Predicting the scores\n"
   ]
  },
  {
   "cell_type": "code",
   "execution_count": 19,
   "id": "0d8d1118",
   "metadata": {},
   "outputs": [
    {
     "data": {
      "text/html": [
       "<div>\n",
       "<style scoped>\n",
       "    .dataframe tbody tr th:only-of-type {\n",
       "        vertical-align: middle;\n",
       "    }\n",
       "\n",
       "    .dataframe tbody tr th {\n",
       "        vertical-align: top;\n",
       "    }\n",
       "\n",
       "    .dataframe thead th {\n",
       "        text-align: right;\n",
       "    }\n",
       "</style>\n",
       "<table border=\"1\" class=\"dataframe\">\n",
       "  <thead>\n",
       "    <tr style=\"text-align: right;\">\n",
       "      <th></th>\n",
       "      <th>Actual</th>\n",
       "      <th>Predicted</th>\n",
       "    </tr>\n",
       "  </thead>\n",
       "  <tbody>\n",
       "    <tr>\n",
       "      <th>0</th>\n",
       "      <td>81</td>\n",
       "      <td>83.188141</td>\n",
       "    </tr>\n",
       "    <tr>\n",
       "      <th>1</th>\n",
       "      <td>30</td>\n",
       "      <td>27.032088</td>\n",
       "    </tr>\n",
       "    <tr>\n",
       "      <th>2</th>\n",
       "      <td>21</td>\n",
       "      <td>27.032088</td>\n",
       "    </tr>\n",
       "    <tr>\n",
       "      <th>3</th>\n",
       "      <td>76</td>\n",
       "      <td>69.633232</td>\n",
       "    </tr>\n",
       "    <tr>\n",
       "      <th>4</th>\n",
       "      <td>62</td>\n",
       "      <td>59.951153</td>\n",
       "    </tr>\n",
       "  </tbody>\n",
       "</table>\n",
       "</div>"
      ],
      "text/plain": [
       "   Actual  Predicted\n",
       "0      81  83.188141\n",
       "1      30  27.032088\n",
       "2      21  27.032088\n",
       "3      76  69.633232\n",
       "4      62  59.951153"
      ]
     },
     "execution_count": 19,
     "metadata": {},
     "output_type": "execute_result"
    }
   ],
   "source": [
    "# Comparing Actual vs Predicted\n",
    "df = pd.DataFrame({'Actual': y_test, 'Predicted': y_pred})  \n",
    "df "
   ]
  },
  {
   "cell_type": "code",
   "execution_count": 20,
   "id": "7727a644",
   "metadata": {},
   "outputs": [
    {
     "name": "stdout",
     "output_type": "stream",
     "text": [
      "Training Score: 0.9491209376364416\n",
      "Test Score: 0.9678055545167994\n"
     ]
    }
   ],
   "source": [
    "#Estimating training and test score\n",
    "print(\"Training Score:\",regressor.score(X_train,y_train))\n",
    "print(\"Test Score:\",regressor.score(X_test,y_test))"
   ]
  },
  {
   "cell_type": "code",
   "execution_count": 21,
   "id": "2508b329",
   "metadata": {},
   "outputs": [
    {
     "data": {
      "image/png": "[encoded data removed]",
      "text/plain": [
       "<Figure size 504x504 with 1 Axes>"
      ]
     },
     "metadata": {
      "needs_background": "light"
     },
     "output_type": "display_data"
    }
   ],
   "source": [
    "#plotting the grid to depict the actual and predicted value\n",
    "df.plot(kind='bar',figsize=(7,7))\n",
    "plt.grid(which='major', linewidth='0.5', color='green')\n",
    "plt.grid(which='minor', linewidth='0.5', color='black')\n",
    "plt.show()"
   ]
  },
  {
   "cell_type": "code",
   "execution_count": 22,
   "id": "1ee818bf",
   "metadata": {},
   "outputs": [
    {
     "name": "stdout",
     "output_type": "stream",
     "text": [
      "No of Hours = 9.25\n",
      "Predicted Score = 92.38611528261494\n"
     ]
    }
   ],
   "source": [
    "# Testing with some new data\n",
    "hours = 9.25\n",
    "test = np.array([hours])\n",
    "test = test.reshape(-1, 1)\n",
    "own_pred = regressor.predict(test)\n",
    "print(\"No of Hours = {}\".format(hours))\n",
    "print(\"Predicted Score = {}\".format(own_pred[0]))"
   ]
  },
  {
   "cell_type": "markdown",
   "id": "1a3ba921",
   "metadata": {},
   "source": [
    "### Evaluating the model\n",
    "The final step is to evaluate the performance of algorithm. "
   ]
  },
  {
   "cell_type": "code",
   "execution_count": 23,
   "id": "3187cb96",
   "metadata": {},
   "outputs": [
    {
     "name": "stdout",
     "output_type": "stream",
     "text": [
      "Mean Absolute Error: 3.9207511902099244\n",
      "Mean Squared Error: 18.943211722315272\n",
      "Root Mean Squared Error: 4.352380006653288\n",
      "R-2: 0.9678055545167994\n"
     ]
    }
   ],
   "source": [
    "from sklearn import metrics  \n",
    "print('Mean Absolute Error:',metrics.mean_absolute_error(y_test, y_pred)) \n",
    "print('Mean Squared Error:', metrics.mean_squared_error(y_test, y_pred))\n",
    "print('Root Mean Squared Error:', np.sqrt(metrics.mean_squared_error(y_test, y_pred)))\n",
    "print('R-2:', metrics.r2_score(y_test, y_pred))"
   ]
  },
  {
   "cell_type": "markdown",
   "id": "6b2020dc",
   "metadata": {},
   "source": [
    "R-squared gives the goodness of the fit and as can be seen it is 96.7% which is really good. This means that the algorithm has proven to be good for the given data.\n",
    "\n",
    "It can also be said that the model's accuracy is 96.78%"
   ]
  }
 ],
 "metadata": {
  "kernelspec": {
   "display_name": "Python 3 (ipykernel)",
   "language": "python",
   "name": "python3"
  },
  "language_info": {
   "codemirror_mode": {
    "name": "ipython",
    "version": 3
   },
   "file_extension": ".py",
   "mimetype": "text/x-python",
   "name": "python",
   "nbconvert_exporter": "python",
   "pygments_lexer": "ipython3",
   "version": "3.9.7"
  }
 },
 "nbformat": 4,
 "nbformat_minor": 5
}
